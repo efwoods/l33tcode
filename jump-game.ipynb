{
 "cells": [
  {
   "cell_type": "code",
   "execution_count": 46,
   "metadata": {},
   "outputs": [],
   "source": [
    "from typing import List"
   ]
  },
  {
   "cell_type": "code",
   "execution_count": 155,
   "metadata": {},
   "outputs": [],
   "source": [
    "class Solution:\n",
    "    def pop_array(self, arr):\n",
    "        temp_arr = arr[::-1]\n",
    "        temp_arr.pop()\n",
    "        arr = temp_arr[::-1]\n",
    "        return arr\n",
    "    def canJump(self, nums: List[int]) -> bool:\n",
    "        if nums[0] == 0:\n",
    "            if len(nums) != 1:\n",
    "                return False\n",
    "            else:\n",
    "                print(\"printing true here\")\n",
    "                return True\n",
    "                exit()\n",
    "        impossible = 0\n",
    "        while impossible != 1:\n",
    "            try:\n",
    "                nums.index(0)\n",
    "            except:\n",
    "                print(\"printing True\")\n",
    "                return True\n",
    "                break\n",
    "                exit()\n",
    "            try: \n",
    "                current_position = 0\n",
    "                potential_jump_values_subarray = nums[current_position: nums.index(0)]\n",
    "                print('potential_jump_values_subarray: {}'.format(potential_jump_values_subarray))\n",
    "                current_jump = potential_jump_values_subarray[0]\n",
    "            except:\n",
    "                print(\"printing false here\")\n",
    "                return False\n",
    "                break\n",
    "            jump_length_needed = len(nums[current_position: nums.index(0)]) + 1\n",
    "            index = 0\n",
    "            while current_jump < jump_length_needed and len(potential_jump_values_subarray)>0:\n",
    "                potential_jump_values_subarray = self.pop_array(potential_jump_values_subarray)\n",
    "                index += 1\n",
    "                if len(potential_jump_values_subarray) > 0:\n",
    "                    current_jump = potential_jump_values_subarray[0]\n",
    "                    print('current_jump: {}'.format(current_jump))\n",
    "                else:\n",
    "                    print(\"false\")\n",
    "                    impossible = 1\n",
    "                    break\n",
    "                jump_length_needed = len(potential_jump_values_subarray) + 1\n",
    "            current_position = current_jump + index\n",
    "            print(\"current_position: {}\\ncurrent_jump: {}\\nindex: {}\".format(current_position, current_jump, index))\n",
    "            print(\"nums before current_position: {}\".format(nums))\n",
    "            nums = nums[current_position:]\n",
    "            if len(nums) == 1:\n",
    "                return True\n",
    "            print(\"nums after current_position: {}\".format(nums))\n",
    "        if impossible == 1:\n",
    "            return False"
   ]
  },
  {
   "cell_type": "code",
   "execution_count": 156,
   "metadata": {},
   "outputs": [],
   "source": [
    "foo = Solution()"
   ]
  },
  {
   "cell_type": "code",
   "execution_count": 158,
   "metadata": {},
   "outputs": [],
   "source": [
    "nums = [2,3,1,1,4]"
   ]
  },
  {
   "cell_type": "code",
   "execution_count": 164,
   "metadata": {},
   "outputs": [],
   "source": [
    "nums = [3,2,2,0,1]"
   ]
  },
  {
   "cell_type": "code",
   "execution_count": 162,
   "metadata": {},
   "outputs": [],
   "source": [
    "nums = [2,0,0]"
   ]
  },
  {
   "cell_type": "code",
   "execution_count": 165,
   "metadata": {},
   "outputs": [
    {
     "name": "stdout",
     "output_type": "stream",
     "text": [
      "potential_jump_values_subarray: [3, 2, 2]\n",
      "current_jump: 2\n",
      "current_jump: 2\n",
      "current_position: 4\n",
      "current_jump: 2\n",
      "index: 2\n",
      "nums before current_position: [3, 2, 2, 0, 1]\n"
     ]
    },
    {
     "data": {
      "text/plain": [
       "True"
      ]
     },
     "execution_count": 165,
     "metadata": {},
     "output_type": "execute_result"
    }
   ],
   "source": [
    "foo.canJump(nums)"
   ]
  },
  {
   "cell_type": "code",
   "execution_count": null,
   "metadata": {},
   "outputs": [],
   "source": []
  }
 ],
 "metadata": {
  "kernelspec": {
   "display_name": "Python 3",
   "language": "python",
   "name": "python3"
  },
  "language_info": {
   "codemirror_mode": {
    "name": "ipython",
    "version": 3
   },
   "file_extension": ".py",
   "mimetype": "text/x-python",
   "name": "python",
   "nbconvert_exporter": "python",
   "pygments_lexer": "ipython3",
   "version": "3.9.6"
  },
  "orig_nbformat": 4
 },
 "nbformat": 4,
 "nbformat_minor": 2
}
