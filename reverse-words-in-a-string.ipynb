{
 "cells": [
  {
   "cell_type": "code",
   "execution_count": 55,
   "metadata": {},
   "outputs": [],
   "source": [
    "class Solution:\n",
    "    def reverseWords(self, s: str) -> str:\n",
    "        s = s.strip()\n",
    "        string = [word for word in s.split(\" \") if word.isalnum()]\n",
    "        string = string[::-1]\n",
    "        if len(string) == 0:\n",
    "            return s\n",
    "        new_string = \"\"\n",
    "        new_string = string[0]\n",
    "        i = 1\n",
    "        while i < len(string):\n",
    "            new_string += \" \"\n",
    "            new_string += string[i]\n",
    "            i += 1\n",
    "        return new_string\n",
    "    \n"
   ]
  }
 ],
 "metadata": {
  "kernelspec": {
   "display_name": "Python 3",
   "language": "python",
   "name": "python3"
  },
  "language_info": {
   "codemirror_mode": {
    "name": "ipython",
    "version": 3
   },
   "file_extension": ".py",
   "mimetype": "text/x-python",
   "name": "python",
   "nbconvert_exporter": "python",
   "pygments_lexer": "ipython3",
   "version": "3.9.6"
  },
  "orig_nbformat": 4
 },
 "nbformat": 4,
 "nbformat_minor": 2
}
