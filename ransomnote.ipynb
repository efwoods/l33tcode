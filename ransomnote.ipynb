{
 "cells": [
  {
   "cell_type": "code",
   "execution_count": 101,
   "metadata": {},
   "outputs": [],
   "source": [
    "ransomNote = \"a\"\n",
    "magazine = \"b\""
   ]
  },
  {
   "cell_type": "code",
   "execution_count": 78,
   "metadata": {},
   "outputs": [
    {
     "data": {
      "text/plain": [
       "0"
      ]
     },
     "execution_count": 78,
     "metadata": {},
     "output_type": "execute_result"
    }
   ],
   "source": [
    "arr = []\n",
    "list_pop(arr)\n",
    "len(arr)"
   ]
  },
  {
   "cell_type": "code",
   "execution_count": 102,
   "metadata": {},
   "outputs": [],
   "source": [
    "def list_pop(array):\n",
    "    if len(array) >  0: \n",
    "        pop = array[0]\n",
    "        array = array[1:]\n",
    "    else:\n",
    "        pop = ''\n",
    "        array = []\n",
    "    return pop, array"
   ]
  },
  {
   "cell_type": "code",
   "execution_count": 103,
   "metadata": {},
   "outputs": [
    {
     "name": "stdout",
     "output_type": "stream",
     "text": [
      "current_letter: b\n",
      "magazine: \n",
      "False\n"
     ]
    }
   ],
   "source": [
    "while len(ransomNote) > 0 and len(magazine) > 0:\n",
    "    current_letter, magazine = list_pop(magazine)\n",
    "    print(\"current_letter: {}\".format(current_letter))\n",
    "    print(\"magazine: {}\".format(magazine))\n",
    "    try: \n",
    "        index = ransomNote.index(current_letter)\n",
    "        ransomNote = ransomNote.replace(ransomNote[index],'',1)\n",
    "        print(\"ransomNote: {}\".format(ransomNote))\n",
    "        if len(ransomNote) == 0:\n",
    "            print(\"True\")\n",
    "            break\n",
    "    except ValueError:\n",
    "        index = None\n",
    "else:\n",
    "    print(\"False\")"
   ]
  },
  {
   "cell_type": "code",
   "execution_count": 63,
   "metadata": {},
   "outputs": [],
   "source": [
    "current_letter, magazine = list_pop(magazine)"
   ]
  },
  {
   "cell_type": "code",
   "execution_count": 64,
   "metadata": {},
   "outputs": [
    {
     "ename": "IndexError",
     "evalue": "string index out of range",
     "output_type": "error",
     "traceback": [
      "\u001b[0;31m---------------------------------------------------------------------------\u001b[0m",
      "\u001b[0;31mIndexError\u001b[0m                                Traceback (most recent call last)",
      "\u001b[1;32m/Users/evanwoods/Github/l33tcode/ransomnote.ipynb Cell 6\u001b[0m line \u001b[0;36m3\n\u001b[1;32m      <a href='vscode-notebook-cell:/Users/evanwoods/Github/l33tcode/ransomnote.ipynb#X13sZmlsZQ%3D%3D?line=0'>1</a>\u001b[0m \u001b[39mtry\u001b[39;00m: \n\u001b[1;32m      <a href='vscode-notebook-cell:/Users/evanwoods/Github/l33tcode/ransomnote.ipynb#X13sZmlsZQ%3D%3D?line=1'>2</a>\u001b[0m     index \u001b[39m=\u001b[39m ransomNote\u001b[39m.\u001b[39mindex(current_letter)\n\u001b[0;32m----> <a href='vscode-notebook-cell:/Users/evanwoods/Github/l33tcode/ransomnote.ipynb#X13sZmlsZQ%3D%3D?line=2'>3</a>\u001b[0m     ransomNote \u001b[39m=\u001b[39m ransomNote\u001b[39m.\u001b[39mreplace(ransomNote[index],\u001b[39m'\u001b[39m\u001b[39m'\u001b[39m,\u001b[39m1\u001b[39m)\n\u001b[1;32m      <a href='vscode-notebook-cell:/Users/evanwoods/Github/l33tcode/ransomnote.ipynb#X13sZmlsZQ%3D%3D?line=3'>4</a>\u001b[0m \u001b[39mexcept\u001b[39;00m \u001b[39mValueError\u001b[39;00m:\n\u001b[1;32m      <a href='vscode-notebook-cell:/Users/evanwoods/Github/l33tcode/ransomnote.ipynb#X13sZmlsZQ%3D%3D?line=4'>5</a>\u001b[0m     index \u001b[39m=\u001b[39m \u001b[39mNone\u001b[39;00m\n",
      "\u001b[0;31mIndexError\u001b[0m: string index out of range"
     ]
    }
   ],
   "source": [
    "try: \n",
    "    index = ransomNote.index(current_letter)\n",
    "    ransomNote = ransomNote.replace(ransomNote[index],'',1)\n",
    "except ValueError:\n",
    "    index = None"
   ]
  },
  {
   "cell_type": "code",
   "execution_count": 58,
   "metadata": {},
   "outputs": [
    {
     "data": {
      "text/plain": [
       "''"
      ]
     },
     "execution_count": 58,
     "metadata": {},
     "output_type": "execute_result"
    }
   ],
   "source": [
    "ransomNote"
   ]
  },
  {
   "cell_type": "code",
   "execution_count": 32,
   "metadata": {},
   "outputs": [
    {
     "data": {
      "text/plain": [
       "0"
      ]
     },
     "execution_count": 32,
     "metadata": {},
     "output_type": "execute_result"
    }
   ],
   "source": [
    "\n",
    "_, ransomNote = list_pop(ransomNote.index(current_letter))"
   ]
  },
  {
   "cell_type": "code",
   "execution_count": null,
   "metadata": {},
   "outputs": [],
   "source": []
  },
  {
   "cell_type": "code",
   "execution_count": 27,
   "metadata": {},
   "outputs": [
    {
     "data": {
      "text/plain": [
       "'b'"
      ]
     },
     "execution_count": 27,
     "metadata": {},
     "output_type": "execute_result"
    }
   ],
   "source": [
    "current_letter"
   ]
  },
  {
   "cell_type": "code",
   "execution_count": 28,
   "metadata": {},
   "outputs": [
    {
     "data": {
      "text/plain": [
       "''"
      ]
     },
     "execution_count": 28,
     "metadata": {},
     "output_type": "execute_result"
    }
   ],
   "source": [
    "magazine"
   ]
  },
  {
   "cell_type": "code",
   "execution_count": 134,
   "metadata": {},
   "outputs": [],
   "source": [
    "class Solution():\n",
    "    def __init__(self):\n",
    "        pass\n",
    "    def foo(__self__):\n",
    "        print(\"foo\")\n",
    "    def bar(self):\n",
    "        self.foo()"
   ]
  },
  {
   "cell_type": "code",
   "execution_count": 135,
   "metadata": {},
   "outputs": [
    {
     "ename": "TypeError",
     "evalue": "foo() missing 1 required positional argument: '__self__'",
     "output_type": "error",
     "traceback": [
      "\u001b[0;31m---------------------------------------------------------------------------\u001b[0m",
      "\u001b[0;31mTypeError\u001b[0m                                 Traceback (most recent call last)",
      "\u001b[1;32m/Users/evanwoods/Github/l33tcode/ransomnote.ipynb Cell 13\u001b[0m line \u001b[0;36m1\n\u001b[0;32m----> <a href='vscode-notebook-cell:/Users/evanwoods/Github/l33tcode/ransomnote.ipynb#X32sZmlsZQ%3D%3D?line=0'>1</a>\u001b[0m Solution\u001b[39m.\u001b[39;49mfoo()\n",
      "\u001b[0;31mTypeError\u001b[0m: foo() missing 1 required positional argument: '__self__'"
     ]
    }
   ],
   "source": [
    "Solution.foo()"
   ]
  },
  {
   "cell_type": "code",
   "execution_count": 136,
   "metadata": {},
   "outputs": [
    {
     "ename": "TypeError",
     "evalue": "foo() missing 1 required positional argument: '__self__'",
     "output_type": "error",
     "traceback": [
      "\u001b[0;31m---------------------------------------------------------------------------\u001b[0m",
      "\u001b[0;31mTypeError\u001b[0m                                 Traceback (most recent call last)",
      "\u001b[1;32m/Users/evanwoods/Github/l33tcode/ransomnote.ipynb Cell 14\u001b[0m line \u001b[0;36m1\n\u001b[0;32m----> <a href='vscode-notebook-cell:/Users/evanwoods/Github/l33tcode/ransomnote.ipynb#X33sZmlsZQ%3D%3D?line=0'>1</a>\u001b[0m Solution\u001b[39m.\u001b[39;49mbar(Solution)\n",
      "\u001b[1;32m/Users/evanwoods/Github/l33tcode/ransomnote.ipynb Cell 14\u001b[0m line \u001b[0;36m7\n\u001b[1;32m      <a href='vscode-notebook-cell:/Users/evanwoods/Github/l33tcode/ransomnote.ipynb#X33sZmlsZQ%3D%3D?line=5'>6</a>\u001b[0m \u001b[39mdef\u001b[39;00m \u001b[39mbar\u001b[39m(\u001b[39mself\u001b[39m):\n\u001b[0;32m----> <a href='vscode-notebook-cell:/Users/evanwoods/Github/l33tcode/ransomnote.ipynb#X33sZmlsZQ%3D%3D?line=6'>7</a>\u001b[0m     \u001b[39mself\u001b[39;49m\u001b[39m.\u001b[39;49mfoo()\n",
      "\u001b[0;31mTypeError\u001b[0m: foo() missing 1 required positional argument: '__self__'"
     ]
    }
   ],
   "source": [
    "\n",
    "Solution.bar(Solution)"
   ]
  },
  {
   "cell_type": "code",
   "execution_count": 137,
   "metadata": {},
   "outputs": [
    {
     "name": "stdout",
     "output_type": "stream",
     "text": [
      "foo\n"
     ]
    }
   ],
   "source": [
    "func = Solution()\n",
    "\n",
    "func.bar()"
   ]
  },
  {
   "cell_type": "code",
   "execution_count": 143,
   "metadata": {},
   "outputs": [],
   "source": [
    "class Solution:\n",
    "    def canConstruct(self, ransomNote: str, magazine: str) -> bool:\n",
    "        while len(ransomNote) > 0 and len(magazine) > 0:\n",
    "            if len(magazine) > 0:\n",
    "                current_letter = magazine[0]\n",
    "                magazine = magazine[1:]\n",
    "            else:\n",
    "                current_letter = ''\n",
    "            # print(\"current_letter: {}\".format(current_letter))\n",
    "            # print(\"magazine: {}\".format(magazine))\n",
    "            try: \n",
    "                index = ransomNote.index(current_letter)\n",
    "                ransomNote = ransomNote.replace(ransomNote[index],'',1)\n",
    "                # print(\"ransomNote: {}\".format(ransomNote))\n",
    "                if len(ransomNote) == 0:\n",
    "                    # print(\"True\")\n",
    "                    return True\n",
    "                    break\n",
    "            except ValueError:\n",
    "                index = None\n",
    "        else:\n",
    "            # print(\"False\")\n",
    "            return False"
   ]
  },
  {
   "cell_type": "code",
   "execution_count": 144,
   "metadata": {},
   "outputs": [
    {
     "data": {
      "text/plain": [
       "False"
      ]
     },
     "execution_count": 144,
     "metadata": {},
     "output_type": "execute_result"
    }
   ],
   "source": [
    "Solution.canConstruct(Solution, \"a\", \"b\")"
   ]
  },
  {
   "cell_type": "code",
   "execution_count": null,
   "metadata": {},
   "outputs": [],
   "source": []
  }
 ],
 "metadata": {
  "kernelspec": {
   "display_name": "Python 3",
   "language": "python",
   "name": "python3"
  },
  "language_info": {
   "codemirror_mode": {
    "name": "ipython",
    "version": 3
   },
   "file_extension": ".py",
   "mimetype": "text/x-python",
   "name": "python",
   "nbconvert_exporter": "python",
   "pygments_lexer": "ipython3",
   "version": "3.9.6"
  },
  "orig_nbformat": 4
 },
 "nbformat": 4,
 "nbformat_minor": 2
}
