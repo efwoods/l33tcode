{
 "cells": [
  {
   "cell_type": "code",
   "execution_count": 1,
   "metadata": {},
   "outputs": [],
   "source": [
    "from typing import List"
   ]
  },
  {
   "cell_type": "code",
   "execution_count": 2,
   "metadata": {},
   "outputs": [],
   "source": [
    "nums = [1,1,2,2,3,3,1]"
   ]
  },
  {
   "cell_type": "code",
   "execution_count": 22,
   "metadata": {},
   "outputs": [
    {
     "data": {
      "text/plain": [
       "[1]"
      ]
     },
     "execution_count": 22,
     "metadata": {},
     "output_type": "execute_result"
    }
   ],
   "source": [
    "nums[:1]"
   ]
  },
  {
   "cell_type": "code",
   "execution_count": 26,
   "metadata": {},
   "outputs": [
    {
     "data": {
      "text/plain": [
       "[2, 3]"
      ]
     },
     "execution_count": 26,
     "metadata": {},
     "output_type": "execute_result"
    }
   ],
   "source": [
    "nums[1:]"
   ]
  },
  {
   "cell_type": "code",
   "execution_count": 16,
   "metadata": {},
   "outputs": [],
   "source": [
    "temp_arr = nums[::-1]"
   ]
  },
  {
   "cell_type": "code",
   "execution_count": 17,
   "metadata": {},
   "outputs": [
    {
     "data": {
      "text/plain": [
       "1"
      ]
     },
     "execution_count": 17,
     "metadata": {},
     "output_type": "execute_result"
    }
   ],
   "source": [
    "temp_arr.pop()"
   ]
  },
  {
   "cell_type": "code",
   "execution_count": 18,
   "metadata": {},
   "outputs": [],
   "source": [
    "nums = temp_arr[::-1]"
   ]
  },
  {
   "cell_type": "code",
   "execution_count": 19,
   "metadata": {},
   "outputs": [
    {
     "name": "stdout",
     "output_type": "stream",
     "text": [
      "[2, 3]\n"
     ]
    }
   ],
   "source": [
    "print(nums)"
   ]
  },
  {
   "cell_type": "code",
   "execution_count": 2,
   "metadata": {},
   "outputs": [],
   "source": [
    "nums = [1, 1, 2, 1, 2, 3, 3, 1]"
   ]
  },
  {
   "cell_type": "code",
   "execution_count": 190,
   "metadata": {},
   "outputs": [],
   "source": [
    "class Solution:\n",
    "    def removeDuplicates(self, nums: List[int]) -> int:\n",
    "        for store in set(nums):\n",
    "            if len(nums) == 1:\n",
    "                return nums\n",
    "            print(set(nums))\n",
    "            if nums[0] == nums[1] and store == nums[0]:\n",
    "                number_of_appearances = 1\n",
    "            else:\n",
    "                number_of_appearances = 0\n",
    "            array_len = len(nums)\n",
    "            item = 1\n",
    "            while item < array_len:\n",
    "                print(\"item: {}\".format(item))\n",
    "                print(\"array_len: {}\".format(array_len))\n",
    "                print()\n",
    "                if number_of_appearances < 2:\n",
    "                    if store == nums[item]:\n",
    "                        print(\"nums[item]: {}\".format(nums[item]))\n",
    "                        print(\"store: {}\".format(store))\n",
    "                        number_of_appearances+=1\n",
    "                    item += 1\n",
    "                else:\n",
    "                    try:\n",
    "                        if store == nums[item]:\n",
    "                            if len(nums[item:]) != 1:\n",
    "                                print(len(nums[item:]))\n",
    "                                print(\"\\nnums: {}\".format(nums))\n",
    "                                print(\"nums[:item]: {}\".format(nums[:item]))\n",
    "                                print(\"item: {}\".format(nums[item]))\n",
    "                                print(\"nums[item+1:]: {}\".format(nums[item+1:]))\n",
    "                                nums = nums[:item] + nums[item+1:]\n",
    "                                array_len = len(nums)\n",
    "                            else:\n",
    "                                print(\"len of nums[item:] != 1 : {}\".format(len(nums[item:])))\n",
    "                                nums = nums[:item]\n",
    "                                item +=1\n",
    "                        else:\n",
    "                            item += 1\n",
    "                    except:\n",
    "                        print(\"Store: {}\\nitem: {}\\nnums: {}\\nlen(nums): {}\".format(store, item, nums, len(nums)))\n",
    "        return (len(nums), nums)\n"
   ]
  },
  {
   "cell_type": "code",
   "execution_count": 191,
   "metadata": {},
   "outputs": [],
   "source": [
    "nums = [1, 1, 2, 1, 4, 2, 3, 2, 3, 1, 1]"
   ]
  },
  {
   "cell_type": "code",
   "execution_count": 192,
   "metadata": {},
   "outputs": [
    {
     "data": {
      "text/plain": [
       "11"
      ]
     },
     "execution_count": 192,
     "metadata": {},
     "output_type": "execute_result"
    }
   ],
   "source": [
    "len(nums)"
   ]
  },
  {
   "cell_type": "code",
   "execution_count": 193,
   "metadata": {},
   "outputs": [],
   "source": [
    "foo = Solution()"
   ]
  },
  {
   "cell_type": "code",
   "execution_count": 194,
   "metadata": {},
   "outputs": [
    {
     "name": "stdout",
     "output_type": "stream",
     "text": [
      "{1, 2, 3, 4}\n",
      "item: 1\n",
      "array_len: 11\n",
      "\n",
      "nums[item]: 1\n",
      "store: 1\n",
      "item: 2\n",
      "array_len: 11\n",
      "\n",
      "item: 3\n",
      "array_len: 11\n",
      "\n",
      "8\n",
      "\n",
      "nums: [1, 1, 2, 1, 4, 2, 3, 2, 3, 1, 1]\n",
      "nums[:item]: [1, 1, 2]\n",
      "item: 1\n",
      "nums[item+1:]: [4, 2, 3, 2, 3, 1, 1]\n",
      "item: 3\n",
      "array_len: 10\n",
      "\n",
      "item: 4\n",
      "array_len: 10\n",
      "\n",
      "item: 5\n",
      "array_len: 10\n",
      "\n",
      "item: 6\n",
      "array_len: 10\n",
      "\n",
      "item: 7\n",
      "array_len: 10\n",
      "\n",
      "item: 8\n",
      "array_len: 10\n",
      "\n",
      "2\n",
      "\n",
      "nums: [1, 1, 2, 4, 2, 3, 2, 3, 1, 1]\n",
      "nums[:item]: [1, 1, 2, 4, 2, 3, 2, 3]\n",
      "item: 1\n",
      "nums[item+1:]: [1]\n",
      "item: 8\n",
      "array_len: 9\n",
      "\n",
      "len of nums[item:] != 1 : 1\n",
      "{1, 2, 3, 4}\n",
      "item: 1\n",
      "array_len: 8\n",
      "\n",
      "item: 2\n",
      "array_len: 8\n",
      "\n",
      "nums[item]: 2\n",
      "store: 2\n",
      "item: 3\n",
      "array_len: 8\n",
      "\n",
      "item: 4\n",
      "array_len: 8\n",
      "\n",
      "nums[item]: 2\n",
      "store: 2\n",
      "item: 5\n",
      "array_len: 8\n",
      "\n",
      "item: 6\n",
      "array_len: 8\n",
      "\n",
      "2\n",
      "\n",
      "nums: [1, 1, 2, 4, 2, 3, 2, 3]\n",
      "nums[:item]: [1, 1, 2, 4, 2, 3]\n",
      "item: 2\n",
      "nums[item+1:]: [3]\n",
      "item: 6\n",
      "array_len: 7\n",
      "\n",
      "{1, 2, 3, 4}\n",
      "item: 1\n",
      "array_len: 7\n",
      "\n",
      "item: 2\n",
      "array_len: 7\n",
      "\n",
      "item: 3\n",
      "array_len: 7\n",
      "\n",
      "item: 4\n",
      "array_len: 7\n",
      "\n",
      "item: 5\n",
      "array_len: 7\n",
      "\n",
      "nums[item]: 3\n",
      "store: 3\n",
      "item: 6\n",
      "array_len: 7\n",
      "\n",
      "nums[item]: 3\n",
      "store: 3\n",
      "{1, 2, 3, 4}\n",
      "item: 1\n",
      "array_len: 7\n",
      "\n",
      "item: 2\n",
      "array_len: 7\n",
      "\n",
      "item: 3\n",
      "array_len: 7\n",
      "\n",
      "nums[item]: 4\n",
      "store: 4\n",
      "item: 4\n",
      "array_len: 7\n",
      "\n",
      "item: 5\n",
      "array_len: 7\n",
      "\n",
      "item: 6\n",
      "array_len: 7\n",
      "\n"
     ]
    },
    {
     "data": {
      "text/plain": [
       "(7, [1, 1, 2, 4, 2, 3, 3])"
      ]
     },
     "execution_count": 194,
     "metadata": {},
     "output_type": "execute_result"
    }
   ],
   "source": [
    "foo.removeDuplicates(nums)"
   ]
  },
  {
   "cell_type": "code",
   "execution_count": null,
   "metadata": {},
   "outputs": [],
   "source": []
  }
 ],
 "metadata": {
  "kernelspec": {
   "display_name": "Python 3",
   "language": "python",
   "name": "python3"
  },
  "language_info": {
   "codemirror_mode": {
    "name": "ipython",
    "version": 3
   },
   "file_extension": ".py",
   "mimetype": "text/x-python",
   "name": "python",
   "nbconvert_exporter": "python",
   "pygments_lexer": "ipython3",
   "version": "3.9.6"
  },
  "orig_nbformat": 4
 },
 "nbformat": 4,
 "nbformat_minor": 2
}
