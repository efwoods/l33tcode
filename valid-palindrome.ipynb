{
 "cells": [
  {
   "cell_type": "code",
   "execution_count": 50,
   "metadata": {},
   "outputs": [],
   "source": [
    "class Solution:\n",
    "    def isPalindrome(self, s: str) -> bool:\n",
    "        # the string is odd; delete the central character\n",
    "        formatted_string = s.replace(\",\", \"\").replace(\":\", \"\").replace(\" \", \"\").lower()\n",
    "        characters = [char for char in formatted_string]\n",
    "        if len(characters) % 2 == 1:\n",
    "            midpoint = len(characters) // 2\n",
    "            del(characters[midpoint])\n",
    "        i = 0 \n",
    "        j = len(characters) - 1\n",
    "        while i < len(characters) and j > 0:\n",
    "            char1 = characters[i]\n",
    "            char2 = characters[j]\n",
    "            if characters[i] != characters[j]:\n",
    "                non_palindrome = \"\"\n",
    "                # print(\"{} is not a palindrome.\\ni: {}\\nj: {}\".format(s, characters[i], characters[j]))\n",
    "                return False\n",
    "                break\n",
    "            i += 1\n",
    "            j -= 1\n",
    "        else:\n",
    "            # print(\"{} is a palindrome!\".format(s))\n",
    "            return True\n"
   ]
  }
 ],
 "metadata": {
  "kernelspec": {
   "display_name": "Python 3",
   "language": "python",
   "name": "python3"
  },
  "language_info": {
   "codemirror_mode": {
    "name": "ipython",
    "version": 3
   },
   "file_extension": ".py",
   "mimetype": "text/x-python",
   "name": "python",
   "nbconvert_exporter": "python",
   "pygments_lexer": "ipython3",
   "version": "3.9.6"
  },
  "orig_nbformat": 4
 },
 "nbformat": 4,
 "nbformat_minor": 2
}
