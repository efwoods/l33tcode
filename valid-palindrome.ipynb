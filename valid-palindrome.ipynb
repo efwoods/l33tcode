{
 "cells": [
  {
   "cell_type": "code",
   "execution_count": 50,
   "metadata": {},
   "outputs": [],
   "source": [
    "class Solution:\n",
    "    def isPalindrome(self, s: str) -> bool:\n",
    "        # the string is odd; delete the central character\n",
    "        formatted_string = s.replace(\",\", \"\").replace(\":\", \"\").replace(\" \", \"\").lower()\n",
    "        characters = [char for char in formatted_string]\n",
    "        if len(characters) % 2 == 1:\n",
    "            midpoint = len(characters) // 2\n",
    "            del(characters[midpoint])\n",
    "        i = 0 \n",
    "        j = len(characters) - 1\n",
    "        while i < len(characters) and j > 0:\n",
    "            char1 = characters[i]\n",
    "            char2 = characters[j]\n",
    "            if characters[i] != characters[j]:\n",
    "                non_palindrome = \"\"\n",
    "                # print(\"{} is not a palindrome.\\ni: {}\\nj: {}\".format(s, characters[i], characters[j]))\n",
    "                return False\n",
    "                break\n",
    "            i += 1\n",
    "            j -= 1\n",
    "        else:\n",
    "            # print(\"{} is a palindrome!\".format(s))\n",
    "            return True\n"
   ]
  },
  {
   "cell_type": "code",
   "execution_count": 49,
   "metadata": {},
   "outputs": [
    {
     "name": "stdout",
     "output_type": "stream",
     "text": [
      "A man, a plan, a canal: Panama is a palindrome!\n"
     ]
    }
   ],
   "source": [
    "foo.isPalindrome(string)"
   ]
  },
  {
   "cell_type": "code",
   "execution_count": 28,
   "metadata": {},
   "outputs": [],
   "source": [
    "string = \"wow\""
   ]
  },
  {
   "cell_type": "code",
   "execution_count": 2,
   "metadata": {},
   "outputs": [],
   "source": [
    "string = \"teststring\" "
   ]
  },
  {
   "cell_type": "code",
   "execution_count": 3,
   "metadata": {},
   "outputs": [],
   "source": [
    "characters = [char for char in string]\n"
   ]
  },
  {
   "cell_type": "code",
   "execution_count": 6,
   "metadata": {},
   "outputs": [],
   "source": [
    "characters.append(1)"
   ]
  },
  {
   "cell_type": "code",
   "execution_count": 7,
   "metadata": {},
   "outputs": [
    {
     "data": {
      "text/plain": [
       "11"
      ]
     },
     "execution_count": 7,
     "metadata": {},
     "output_type": "execute_result"
    }
   ],
   "source": [
    "len(characters)"
   ]
  },
  {
   "cell_type": "code",
   "execution_count": 9,
   "metadata": {},
   "outputs": [
    {
     "data": {
      "text/plain": [
       "5"
      ]
     },
     "execution_count": 9,
     "metadata": {},
     "output_type": "execute_result"
    }
   ],
   "source": [
    "len(characters) // 2"
   ]
  },
  {
   "cell_type": "code",
   "execution_count": 10,
   "metadata": {},
   "outputs": [
    {
     "data": {
      "text/plain": [
       "'t'"
      ]
     },
     "execution_count": 10,
     "metadata": {},
     "output_type": "execute_result"
    }
   ],
   "source": [
    "characters[5]"
   ]
  },
  {
   "cell_type": "code",
   "execution_count": 12,
   "metadata": {},
   "outputs": [],
   "source": [
    "del(characters[5])"
   ]
  },
  {
   "cell_type": "code",
   "execution_count": 31,
   "metadata": {},
   "outputs": [],
   "source": [
    "string = \"A man, a plan, a canal: Panama\""
   ]
  },
  {
   "cell_type": "code",
   "execution_count": 41,
   "metadata": {},
   "outputs": [],
   "source": [
    "formatted_string = string.replace(\",\", \"\").replace(\":\", \"\").replace(\" \", \"\").lower()\n"
   ]
  },
  {
   "cell_type": "code",
   "execution_count": 36,
   "metadata": {},
   "outputs": [],
   "source": [
    "words = [x for x in string.split(\" \")]"
   ]
  },
  {
   "cell_type": "code",
   "execution_count": 42,
   "metadata": {},
   "outputs": [
    {
     "data": {
      "text/plain": [
       "'amanaplanacanalpanama'"
      ]
     },
     "execution_count": 42,
     "metadata": {},
     "output_type": "execute_result"
    }
   ],
   "source": [
    "formatted_string"
   ]
  },
  {
   "cell_type": "code",
   "execution_count": 13,
   "metadata": {},
   "outputs": [
    {
     "data": {
      "text/plain": [
       "['t', 'e', 's', 't', 's', 'r', 'i', 'n', 'g', 1]"
      ]
     },
     "execution_count": 13,
     "metadata": {},
     "output_type": "execute_result"
    }
   ],
   "source": [
    "characters"
   ]
  },
  {
   "cell_type": "code",
   "execution_count": 24,
   "metadata": {},
   "outputs": [
    {
     "ename": "TypeError",
     "evalue": "can only concatenate str (not \"int\") to str",
     "output_type": "error",
     "traceback": [
      "\u001b[0;31m---------------------------------------------------------------------------\u001b[0m",
      "\u001b[0;31mTypeError\u001b[0m                                 Traceback (most recent call last)",
      "\u001b[1;32m/Users/evanwoods/Github/l33tcode/valid-palindrome.ipynb Cell 11\u001b[0m line \u001b[0;36m1\n\u001b[1;32m     <a href='vscode-notebook-cell:/Users/evanwoods/Github/l33tcode/valid-palindrome.ipynb#W4sZmlsZQ%3D%3D?line=12'>13</a>\u001b[0m \u001b[39mfor\u001b[39;00m char \u001b[39min\u001b[39;00m characters:\n\u001b[1;32m     <a href='vscode-notebook-cell:/Users/evanwoods/Github/l33tcode/valid-palindrome.ipynb#W4sZmlsZQ%3D%3D?line=13'>14</a>\u001b[0m     \u001b[39mif\u001b[39;00m char \u001b[39mis\u001b[39;00m \u001b[39mnot\u001b[39;00m \u001b[39mint\u001b[39m:\n\u001b[0;32m---> <a href='vscode-notebook-cell:/Users/evanwoods/Github/l33tcode/valid-palindrome.ipynb#W4sZmlsZQ%3D%3D?line=14'>15</a>\u001b[0m         non_palindrome\u001b[39m+\u001b[39m\u001b[39m=\u001b[39m char\n\u001b[1;32m     <a href='vscode-notebook-cell:/Users/evanwoods/Github/l33tcode/valid-palindrome.ipynb#W4sZmlsZQ%3D%3D?line=15'>16</a>\u001b[0m \u001b[39mprint\u001b[39m(\u001b[39m\"\u001b[39m\u001b[39m{}\u001b[39;00m\u001b[39m is not a palindrome.\u001b[39m\u001b[39m\\n\u001b[39;00m\u001b[39mi: \u001b[39m\u001b[39m{}\u001b[39;00m\u001b[39m\\n\u001b[39;00m\u001b[39mj: \u001b[39m\u001b[39m{}\u001b[39;00m\u001b[39m\"\u001b[39m\u001b[39m.\u001b[39mformat(characters[i], characters[j]))\n\u001b[1;32m     <a href='vscode-notebook-cell:/Users/evanwoods/Github/l33tcode/valid-palindrome.ipynb#W4sZmlsZQ%3D%3D?line=16'>17</a>\u001b[0m \u001b[39mbreak\u001b[39;00m\n",
      "\u001b[0;31mTypeError\u001b[0m: can only concatenate str (not \"int\") to str"
     ]
    }
   ],
   "source": []
  },
  {
   "cell_type": "code",
   "execution_count": 45,
   "metadata": {},
   "outputs": [],
   "source": [
    "s = \"A man, a plan, a canal: Panama\""
   ]
  },
  {
   "cell_type": "code",
   "execution_count": 46,
   "metadata": {},
   "outputs": [
    {
     "name": "stdout",
     "output_type": "stream",
     "text": [
      "A man, a plan, a canal: Panama is a palindrome!\n"
     ]
    }
   ],
   "source": [
    "# the string is odd; delete the central character\n",
    "formatted_string = s.replace(\",\", \"\").replace(\":\", \"\").replace(\" \", \"\").lower()\n",
    "characters = [char for char in formatted_string]\n",
    "if len(characters) % 2 == 1:\n",
    "    midpoint = len(characters) // 2\n",
    "    del(characters[midpoint])\n",
    "i = 0 \n",
    "j = len(characters) - 1\n",
    "while i < len(characters) and j > 0:\n",
    "    char1 = characters[i]\n",
    "    char2 = characters[j]\n",
    "    if characters[i] != characters[j]:\n",
    "        non_palindrome = \"\"\n",
    "        print(\"{} is not a palindrome.\\ni: {}\\nj: {}\".format(s, characters[i], characters[j]))\n",
    "        break\n",
    "    i += 1\n",
    "    j -= 1\n",
    "else:\n",
    "    print(\"{} is a palindrome!\".format(s))"
   ]
  },
  {
   "cell_type": "code",
   "execution_count": null,
   "metadata": {},
   "outputs": [],
   "source": []
  }
 ],
 "metadata": {
  "kernelspec": {
   "display_name": "Python 3",
   "language": "python",
   "name": "python3"
  },
  "language_info": {
   "codemirror_mode": {
    "name": "ipython",
    "version": 3
   },
   "file_extension": ".py",
   "mimetype": "text/x-python",
   "name": "python",
   "nbconvert_exporter": "python",
   "pygments_lexer": "ipython3",
   "version": "3.9.6"
  },
  "orig_nbformat": 4
 },
 "nbformat": 4,
 "nbformat_minor": 2
}
