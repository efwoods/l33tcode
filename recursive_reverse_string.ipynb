{
 "cells": [
  {
   "cell_type": "code",
   "execution_count": 2,
   "metadata": {},
   "outputs": [],
   "source": [
    "from typing import List"
   ]
  },
  {
   "cell_type": "code",
   "execution_count": 36,
   "metadata": {},
   "outputs": [],
   "source": [
    "\n",
    "class Solution:\n",
    "    def reverseString(self, s: List[str]) -> None:\n",
    "        \"\"\"reverses string in place\n",
    "\n",
    "        Args:\n",
    "            s (List[str]): a string list\n",
    "        \"\"\"\n",
    "        if len(s) <= 1:\n",
    "            print(\"entered base case\")\n",
    "            return s\n",
    "        print(\"s[1:]: {}\".format(s[1:]))\n",
    "        print(\"s[0]: {}\".format(s[0]))\n",
    "        return self.reverseString(s[1:]) + s[0]"
   ]
  },
  {
   "cell_type": "code",
   "execution_count": 37,
   "metadata": {},
   "outputs": [
    {
     "name": "stdout",
     "output_type": "stream",
     "text": [
      "s[1:]: ello World!\n",
      "s[0]: H\n",
      "s[1:]: llo World!\n",
      "s[0]: e\n",
      "s[1:]: lo World!\n",
      "s[0]: l\n",
      "s[1:]: o World!\n",
      "s[0]: l\n",
      "s[1:]:  World!\n",
      "s[0]: o\n",
      "s[1:]: World!\n",
      "s[0]:  \n",
      "s[1:]: orld!\n",
      "s[0]: W\n",
      "s[1:]: rld!\n",
      "s[0]: o\n",
      "s[1:]: ld!\n",
      "s[0]: r\n",
      "s[1:]: d!\n",
      "s[0]: l\n",
      "s[1:]: !\n",
      "s[0]: d\n",
      "entered base case\n",
      "original string: Hello World!\n",
      "Reversed String: !dlroW olleH\n"
     ]
    }
   ],
   "source": [
    "reverser = Solution()\n",
    "input_str = \"Hello World!\"\n",
    "reversed_str = reverser.reverseString(input_str)\n",
    "print(\"original string: {}\".format(input_str))\n",
    "print(\"Reversed String:\", reversed_str)\n"
   ]
  },
  {
   "cell_type": "code",
   "execution_count": 26,
   "metadata": {},
   "outputs": [
    {
     "name": "stdout",
     "output_type": "stream",
     "text": [
      "Original String: Hello, World!\n",
      "Reversed String: !dlroW ,olleH\n"
     ]
    }
   ],
   "source": [
    "class StringReverser:\n",
    "    def reverse_string(self, input_string):\n",
    "        # Base case: If the string has only one character or is empty, return it as is.\n",
    "        if len(input_string) <= 1:\n",
    "            return input_string\n",
    "\n",
    "        # Recursive case: Reverse the substring excluding the first character,\n",
    "        # and concatenate the first character at the end.\n",
    "        return self.reverse_string(input_string[1:]) + input_string[0]\n",
    "\n",
    "# Example usage:\n",
    "if __name__ == \"__main__\":\n",
    "    reverser = StringReverser()\n",
    "    input_str = \"Hello, World!\"\n",
    "    reversed_str = reverser.reverse_string(input_str)\n",
    "    print(\"Original String:\", input_str)\n",
    "    print(\"Reversed String:\", reversed_str)\n"
   ]
  },
  {
   "cell_type": "code",
   "execution_count": null,
   "metadata": {},
   "outputs": [],
   "source": []
  }
 ],
 "metadata": {
  "kernelspec": {
   "display_name": "Python 3",
   "language": "python",
   "name": "python3"
  },
  "language_info": {
   "codemirror_mode": {
    "name": "ipython",
    "version": 3
   },
   "file_extension": ".py",
   "mimetype": "text/x-python",
   "name": "python",
   "nbconvert_exporter": "python",
   "pygments_lexer": "ipython3",
   "version": "3.9.6"
  },
  "orig_nbformat": 4
 },
 "nbformat": 4,
 "nbformat_minor": 2
}
